{
  "nbformat": 4,
  "nbformat_minor": 0,
  "metadata": {
    "colab": {
      "provenance": [],
      "collapsed_sections": []
    },
    "kernelspec": {
      "name": "python3",
      "display_name": "Python 3"
    },
    "language_info": {
      "name": "python"
    }
  },
  "cells": [
    {
      "cell_type": "code",
      "source": [
        "kohli_sent = \"Kohli made his Test debut in 2011.\"\n",
        "kohli_para = \"Kohli made his Test debut in 2011. He reached the number one spot in the ICC rankings for ODI batsmen for the first time in 2013. He has won Man of the Tournament twice at the ICC World Twenty20 (in 2014 and 2016). He also holds the world record of being the fastest to score 24,000 international career runs. He also is the leading run scorer of all time in T20s, as well as the current leading run scorer in T20 World Cups.\"\n",
        "hist_para = \"I have three visions for India. In 3000 years of our history, people from all over the world have come and invaded us, captured our lands, conquered our minds. From Alexander onwards, the Greeks, the Turks, the Moguls, the Portuguese, the British, the French, the Dutch, all of them came and looted us, took over what was ours.\""
      ],
      "metadata": {
        "id": "2CWv2vl-szf3"
      },
      "execution_count": null,
      "outputs": []
    },
    {
      "cell_type": "markdown",
      "source": [
        "##Convert text to lower case and remove leading, trailing whitespace"
      ],
      "metadata": {
        "id": "txGTHLvs9KIm"
      }
    },
    {
      "cell_type": "code",
      "source": [
        "kohli_sent.lower().strip()"
      ],
      "metadata": {
        "colab": {
          "base_uri": "https://localhost:8080/",
          "height": 35
        },
        "id": "xyOGm5QO9P71",
        "outputId": "d4a0a5f4-33da-437a-8b9b-15a34e2dc15e"
      },
      "execution_count": null,
      "outputs": [
        {
          "output_type": "execute_result",
          "data": {
            "text/plain": [
              "'kohli made his test debut in 2011.'"
            ],
            "application/vnd.google.colaboratory.intrinsic+json": {
              "type": "string"
            }
          },
          "metadata": {},
          "execution_count": 20
        }
      ]
    },
    {
      "cell_type": "markdown",
      "source": [
        "##Remove Contraction"
      ],
      "metadata": {
        "id": "-4nNN8j47TV6"
      }
    },
    {
      "cell_type": "code",
      "source": [
        "!pip install contractions\n",
        "import contractions"
      ],
      "metadata": {
        "colab": {
          "base_uri": "https://localhost:8080/"
        },
        "id": "_jmFfiIU7S-F",
        "outputId": "f5a7bf34-f9ff-408b-f85b-01a1be4ad187"
      },
      "execution_count": null,
      "outputs": [
        {
          "output_type": "stream",
          "name": "stdout",
          "text": [
            "Looking in indexes: https://pypi.org/simple, https://us-python.pkg.dev/colab-wheels/public/simple/\n",
            "Requirement already satisfied: contractions in /usr/local/lib/python3.7/dist-packages (0.1.72)\n",
            "Requirement already satisfied: textsearch>=0.0.21 in /usr/local/lib/python3.7/dist-packages (from contractions) (0.0.24)\n",
            "Requirement already satisfied: anyascii in /usr/local/lib/python3.7/dist-packages (from textsearch>=0.0.21->contractions) (0.3.1)\n",
            "Requirement already satisfied: pyahocorasick in /usr/local/lib/python3.7/dist-packages (from textsearch>=0.0.21->contractions) (1.4.4)\n"
          ]
        }
      ]
    },
    {
      "cell_type": "code",
      "source": [
        "contractions.fix(\"The Giants won't lose to this week because the giants are calling for a victory.\")"
      ],
      "metadata": {
        "colab": {
          "base_uri": "https://localhost:8080/",
          "height": 35
        },
        "id": "Q8AiBlcw7hDd",
        "outputId": "83fa0bdd-df86-4320-fb40-c5f271045dd7"
      },
      "execution_count": null,
      "outputs": [
        {
          "output_type": "execute_result",
          "data": {
            "text/plain": [
              "'The Giants will not lose to this week because the giants are calling for a victory.'"
            ],
            "application/vnd.google.colaboratory.intrinsic+json": {
              "type": "string"
            }
          },
          "metadata": {},
          "execution_count": 19
        }
      ]
    },
    {
      "cell_type": "markdown",
      "source": [
        "##Tokenization"
      ],
      "metadata": {
        "id": "x9I-SPURep56"
      }
    },
    {
      "cell_type": "code",
      "source": [
        "from nltk.tokenize import word_tokenize #word_tokenize divide string at word, number, punctuation level\n",
        "print(word_tokenize(kohli_sent))\n",
        "print(word_tokenize(kohli_para))"
      ],
      "metadata": {
        "colab": {
          "base_uri": "https://localhost:8080/"
        },
        "id": "ZmUteeWHeryP",
        "outputId": "15f0ce19-95b3-4837-eab6-e51c2a12444a"
      },
      "execution_count": null,
      "outputs": [
        {
          "output_type": "stream",
          "name": "stdout",
          "text": [
            "['Kohli', 'made', 'his', 'Test', 'debut', 'in', '2011', '.']\n",
            "['Kohli', 'made', 'his', 'Test', 'debut', 'in', '2011', '.', 'He', 'reached', 'the', 'number', 'one', 'spot', 'in', 'the', 'ICC', 'rankings', 'for', 'ODI', 'batsmen', 'for', 'the', 'first', 'time', 'in', '2013', '.', 'He', 'has', 'won', 'Man', 'of', 'the', 'Tournament', 'twice', 'at', 'the', 'ICC', 'World', 'Twenty20', '(', 'in', '2014', 'and', '2016', ')', '.', 'He', 'also', 'holds', 'the', 'world', 'record', 'of', 'being', 'the', 'fastest', 'to', 'score', '24,000', 'international', 'career', 'runs', '.', 'He', 'also', 'is', 'the', 'leading', 'run', 'scorer', 'of', 'all', 'time', 'in', 'T20s', ',', 'as', 'well', 'as', 'the', 'current', 'leading', 'run', 'scorer', 'in', 'T20', 'World', 'Cups', '.']\n"
          ]
        }
      ]
    },
    {
      "cell_type": "code",
      "source": [
        "from nltk.tokenize import sent_tokenize #sent_tokenize divide string at sentence level\n",
        "print(sent_tokenize(kohli_para))"
      ],
      "metadata": {
        "colab": {
          "base_uri": "https://localhost:8080/"
        },
        "id": "SLZSUE6ymtVt",
        "outputId": "976ba6c2-8182-42a0-dc5f-429d06a0c852"
      },
      "execution_count": null,
      "outputs": [
        {
          "output_type": "stream",
          "name": "stdout",
          "text": [
            "['Kohli made his Test debut in 2011.', 'He reached the number one spot in the ICC rankings for ODI batsmen for the first time in 2013.', 'He has won Man of the Tournament twice at the ICC World Twenty20 (in 2014 and 2016).', 'He also holds the world record of being the fastest to score 24,000 international career runs.', 'He also is the leading run scorer of all time in T20s, as well as the current leading run scorer in T20 World Cups.']\n"
          ]
        }
      ]
    },
    {
      "cell_type": "markdown",
      "source": [
        "##Remove Punctuation"
      ],
      "metadata": {
        "id": "xf5FfkWRTeaP"
      }
    },
    {
      "cell_type": "code",
      "source": [
        "import string\n",
        "s = set(string.punctuation)\n",
        "print(s)"
      ],
      "metadata": {
        "colab": {
          "base_uri": "https://localhost:8080/"
        },
        "id": "UOxgDfMuYYOE",
        "outputId": "f2eb1f1c-3c55-4068-d842-66eeb2aae99d"
      },
      "execution_count": null,
      "outputs": [
        {
          "output_type": "stream",
          "name": "stdout",
          "text": [
            "{'%', ']', '?', '`', '#', '*', ')', '\"', \"'\", '[', ';', '^', '(', '@', '}', ',', '-', '$', '.', '/', '~', '\\\\', '<', ':', '+', '|', '>', '=', '_', '&', '{', '!'}\n"
          ]
        }
      ]
    },
    {
      "cell_type": "code",
      "source": [
        "kohli_para.translate(str.maketrans('','', string.punctuation))"
      ],
      "metadata": {
        "colab": {
          "base_uri": "https://localhost:8080/",
          "height": 70
        },
        "id": "Kl1Jyj8hso7k",
        "outputId": "ff46b019-ad57-4677-9c76-9d390b825e34"
      },
      "execution_count": null,
      "outputs": [
        {
          "output_type": "execute_result",
          "data": {
            "text/plain": [
              "'Kohli made his Test debut in 2011 He reached the number one spot in the ICC rankings for ODI batsmen for the first time in 2013 He has won Man of the Tournament twice at the ICC World Twenty20 in 2014 and 2016 He also holds the world record of being the fastest to score 24000 international career runs He also is the leading run scorer of all time in T20s as well as the current leading run scorer in T20 World Cups'"
            ],
            "application/vnd.google.colaboratory.intrinsic+json": {
              "type": "string"
            }
          },
          "metadata": {},
          "execution_count": 35
        }
      ]
    },
    {
      "cell_type": "markdown",
      "source": [
        "##Remove stopwords"
      ],
      "metadata": {
        "id": "1W9FsG_MTipx"
      }
    },
    {
      "cell_type": "code",
      "source": [
        "import nltk\n",
        "nltk.download('stopwords')\n",
        "from nltk.corpus import stopwords\n",
        "eng_stopwords= sorted(set(stopwords.words('english')))\n",
        "print(eng_stopwords)"
      ],
      "metadata": {
        "colab": {
          "base_uri": "https://localhost:8080/"
        },
        "id": "6YaU5a52AXD3",
        "outputId": "7932a869-c0f7-4f1d-a4c7-43b93131b2a2"
      },
      "execution_count": null,
      "outputs": [
        {
          "output_type": "stream",
          "name": "stdout",
          "text": [
            "['a', 'about', 'above', 'after', 'again', 'against', 'ain', 'all', 'am', 'an', 'and', 'any', 'are', 'aren', \"aren't\", 'as', 'at', 'be', 'because', 'been', 'before', 'being', 'below', 'between', 'both', 'but', 'by', 'can', 'couldn', \"couldn't\", 'd', 'did', 'didn', \"didn't\", 'do', 'does', 'doesn', \"doesn't\", 'doing', 'don', \"don't\", 'down', 'during', 'each', 'few', 'for', 'from', 'further', 'had', 'hadn', \"hadn't\", 'has', 'hasn', \"hasn't\", 'have', 'haven', \"haven't\", 'having', 'he', 'her', 'here', 'hers', 'herself', 'him', 'himself', 'his', 'how', 'i', 'if', 'in', 'into', 'is', 'isn', \"isn't\", 'it', \"it's\", 'its', 'itself', 'just', 'll', 'm', 'ma', 'me', 'mightn', \"mightn't\", 'more', 'most', 'mustn', \"mustn't\", 'my', 'myself', 'needn', \"needn't\", 'no', 'nor', 'not', 'now', 'o', 'of', 'off', 'on', 'once', 'only', 'or', 'other', 'our', 'ours', 'ourselves', 'out', 'over', 'own', 're', 's', 'same', 'shan', \"shan't\", 'she', \"she's\", 'should', \"should've\", 'shouldn', \"shouldn't\", 'so', 'some', 'such', 't', 'than', 'that', \"that'll\", 'the', 'their', 'theirs', 'them', 'themselves', 'then', 'there', 'these', 'they', 'this', 'those', 'through', 'to', 'too', 'under', 'until', 'up', 've', 'very', 'was', 'wasn', \"wasn't\", 'we', 'were', 'weren', \"weren't\", 'what', 'when', 'where', 'which', 'while', 'who', 'whom', 'why', 'will', 'with', 'won', \"won't\", 'wouldn', \"wouldn't\", 'y', 'you', \"you'd\", \"you'll\", \"you're\", \"you've\", 'your', 'yours', 'yourself', 'yourselves']\n"
          ]
        },
        {
          "output_type": "stream",
          "name": "stderr",
          "text": [
            "[nltk_data] Downloading package stopwords to /root/nltk_data...\n",
            "[nltk_data]   Package stopwords is already up-to-date!\n"
          ]
        }
      ]
    },
    {
      "cell_type": "code",
      "source": [
        "' '.join([word for word in word_tokenize(kohli_para) if word not in eng_stopwords])"
      ],
      "metadata": {
        "colab": {
          "base_uri": "https://localhost:8080/",
          "height": 70
        },
        "id": "lo10xf-ZAhyW",
        "outputId": "6f517c56-12e5-4442-adb3-888b02a4448a"
      },
      "execution_count": null,
      "outputs": [
        {
          "output_type": "execute_result",
          "data": {
            "text/plain": [
              "'Kohli made Test debut 2011 . He reached number one spot ICC rankings ODI batsmen first time 2013 . He Man Tournament twice ICC World Twenty20 ( 2014 2016 ) . He also holds world record fastest score 24,000 international career runs . He also leading run scorer time T20s , well current leading run scorer T20 World Cups .'"
            ],
            "application/vnd.google.colaboratory.intrinsic+json": {
              "type": "string"
            }
          },
          "metadata": {},
          "execution_count": 51
        }
      ]
    },
    {
      "cell_type": "markdown",
      "source": [
        "##Stemming"
      ],
      "metadata": {
        "id": "LUU7DoheTS4I"
      }
    },
    {
      "cell_type": "code",
      "execution_count": null,
      "metadata": {
        "colab": {
          "base_uri": "https://localhost:8080/"
        },
        "id": "D5YIuf6PFMSW",
        "outputId": "d894d9ae-2327-4c44-8a66-1f19ae44e125"
      },
      "outputs": [
        {
          "output_type": "stream",
          "name": "stderr",
          "text": [
            "[nltk_data] Downloading package punkt to /root/nltk_data...\n",
            "[nltk_data]   Package punkt is already up-to-date!\n"
          ]
        },
        {
          "output_type": "execute_result",
          "data": {
            "text/plain": [
              "('histori', 'histor', 'final', 'final')"
            ]
          },
          "metadata": {},
          "execution_count": 11
        }
      ],
      "source": [
        "import nltk\n",
        "from nltk.stem import SnowballStemmer\n",
        "nltk.download('punkt')\n",
        "stemmer = SnowballStemmer(language='english')\n",
        "stemmer.stem(\"History\"), stemmer.stem(\"Historical\"), stemmer.stem(\"Final\"), stemmer.stem(\"Finally\")"
      ]
    },
    {
      "cell_type": "code",
      "source": [
        "#stemmer sees the entire sentence as a word, so it returns it as it is. We need to stem each word in the sentence and \n",
        "#return a combined sentence.To separate the sentence into words, you can use tokenizer.\n",
        "stemmer.stem(kohli_sent)"
      ],
      "metadata": {
        "colab": {
          "base_uri": "https://localhost:8080/",
          "height": 35
        },
        "id": "1wHRuS9IpVkb",
        "outputId": "5986410e-3dff-452d-88bd-fdb945a605aa"
      },
      "execution_count": null,
      "outputs": [
        {
          "output_type": "execute_result",
          "data": {
            "text/plain": [
              "'kohli made his test debut in 2011.'"
            ],
            "application/vnd.google.colaboratory.intrinsic+json": {
              "type": "string"
            }
          },
          "metadata": {},
          "execution_count": 12
        }
      ]
    },
    {
      "cell_type": "code",
      "source": [
        "token_words = word_tokenize(hist_para)\n",
        "stem_sent = ' '.join([stemmer.stem(word) for word in token_words])\n",
        "stem_sent"
      ],
      "metadata": {
        "colab": {
          "base_uri": "https://localhost:8080/",
          "height": 70
        },
        "id": "HSCfbFq9p92g",
        "outputId": "85581398-c7ee-4c8a-eb1b-371e2474dc43"
      },
      "execution_count": null,
      "outputs": [
        {
          "output_type": "execute_result",
          "data": {
            "text/plain": [
              "'i have three vision for india . in 3000 year of our histori , peopl from all over the world have come and invad us , captur our land , conquer our mind . from alexand onward , the greek , the turk , the mogul , the portugues , the british , the french , the dutch , all of them came and loot us , took over what was our .'"
            ],
            "application/vnd.google.colaboratory.intrinsic+json": {
              "type": "string"
            }
          },
          "metadata": {},
          "execution_count": 13
        }
      ]
    },
    {
      "cell_type": "markdown",
      "source": [
        "##Lemmatization"
      ],
      "metadata": {
        "id": "vIRBqwYyTVm_"
      }
    },
    {
      "cell_type": "code",
      "source": [
        "import nltk\n",
        "nltk.download('punkt')\n",
        "nltk.download('stopwords')\n",
        "nltk.download('wordnet')\n",
        "nltk.download('omw-1.4')\n",
        "from nltk.stem import WordNetLemmatizer\n",
        "from nltk.corpus import stopwords"
      ],
      "metadata": {
        "colab": {
          "base_uri": "https://localhost:8080/"
        },
        "id": "5Z7dH1lu60vy",
        "outputId": "33a6732f-ffd0-4d82-e2f2-26d33443153c"
      },
      "execution_count": null,
      "outputs": [
        {
          "output_type": "stream",
          "name": "stderr",
          "text": [
            "[nltk_data] Downloading package punkt to /root/nltk_data...\n",
            "[nltk_data]   Package punkt is already up-to-date!\n",
            "[nltk_data] Downloading package stopwords to /root/nltk_data...\n",
            "[nltk_data]   Package stopwords is already up-to-date!\n",
            "[nltk_data] Downloading package wordnet to /root/nltk_data...\n",
            "[nltk_data]   Package wordnet is already up-to-date!\n",
            "[nltk_data] Downloading package omw-1.4 to /root/nltk_data...\n"
          ]
        }
      ]
    },
    {
      "cell_type": "code",
      "source": [
        "eng_stopwords= stopwords.words('english')\n",
        "print(eng_stopwords)"
      ],
      "metadata": {
        "colab": {
          "base_uri": "https://localhost:8080/"
        },
        "id": "j5S-KCM87U3U",
        "outputId": "ed2d414f-71f8-4241-d10a-4d99e7981c46"
      },
      "execution_count": null,
      "outputs": [
        {
          "output_type": "stream",
          "name": "stdout",
          "text": [
            "['i', 'me', 'my', 'myself', 'we', 'our', 'ours', 'ourselves', 'you', \"you're\", \"you've\", \"you'll\", \"you'd\", 'your', 'yours', 'yourself', 'yourselves', 'he', 'him', 'his', 'himself', 'she', \"she's\", 'her', 'hers', 'herself', 'it', \"it's\", 'its', 'itself', 'they', 'them', 'their', 'theirs', 'themselves', 'what', 'which', 'who', 'whom', 'this', 'that', \"that'll\", 'these', 'those', 'am', 'is', 'are', 'was', 'were', 'be', 'been', 'being', 'have', 'has', 'had', 'having', 'do', 'does', 'did', 'doing', 'a', 'an', 'the', 'and', 'but', 'if', 'or', 'because', 'as', 'until', 'while', 'of', 'at', 'by', 'for', 'with', 'about', 'against', 'between', 'into', 'through', 'during', 'before', 'after', 'above', 'below', 'to', 'from', 'up', 'down', 'in', 'out', 'on', 'off', 'over', 'under', 'again', 'further', 'then', 'once', 'here', 'there', 'when', 'where', 'why', 'how', 'all', 'any', 'both', 'each', 'few', 'more', 'most', 'other', 'some', 'such', 'no', 'nor', 'not', 'only', 'own', 'same', 'so', 'than', 'too', 'very', 's', 't', 'can', 'will', 'just', 'don', \"don't\", 'should', \"should've\", 'now', 'd', 'll', 'm', 'o', 're', 've', 'y', 'ain', 'aren', \"aren't\", 'couldn', \"couldn't\", 'didn', \"didn't\", 'doesn', \"doesn't\", 'hadn', \"hadn't\", 'hasn', \"hasn't\", 'haven', \"haven't\", 'isn', \"isn't\", 'ma', 'mightn', \"mightn't\", 'mustn', \"mustn't\", 'needn', \"needn't\", 'shan', \"shan't\", 'shouldn', \"shouldn't\", 'wasn', \"wasn't\", 'weren', \"weren't\", 'won', \"won't\", 'wouldn', \"wouldn't\"]\n"
          ]
        }
      ]
    },
    {
      "cell_type": "code",
      "source": [
        "lemma = WordNetLemmatizer()\n",
        "print([lemma.lemmatize(word, pos='v') for word in word_tokenize(kohli_para) if \n",
        "       (word not in s) and word not in eng_stopwords and not word.isnumeric()])"
      ],
      "metadata": {
        "colab": {
          "base_uri": "https://localhost:8080/"
        },
        "id": "9RZ4kWJO7vO4",
        "outputId": "48bb6937-c4c6-4302-c8f8-77333637c867"
      },
      "execution_count": null,
      "outputs": [
        {
          "output_type": "stream",
          "name": "stdout",
          "text": [
            "['Kohli', 'make', 'Test', 'debut', 'He', 'reach', 'number', 'one', 'spot', 'ICC', 'rank', 'ODI', 'batsmen', 'first', 'time', 'He', 'Man', 'Tournament', 'twice', 'ICC', 'World', 'Twenty20', 'He', 'also', 'hold', 'world', 'record', 'fastest', 'score', '24,000', 'international', 'career', 'run', 'He', 'also', 'lead', 'run', 'scorer', 'time', 'T20s', 'well', 'current', 'lead', 'run', 'scorer', 'T20', 'World', 'Cups']\n"
          ]
        }
      ]
    },
    {
      "cell_type": "code",
      "source": [
        "#stemming result\n",
        "print([stemmer.stem(word) for word in word_tokenize(kohli_para) if \n",
        "       (word not in s) and word not in eng_stopwords and not word.isnumeric()])"
      ],
      "metadata": {
        "colab": {
          "base_uri": "https://localhost:8080/"
        },
        "id": "XQKe2h1x9C_T",
        "outputId": "a1214410-b3aa-4e46-8620-05f5ec53cf3a"
      },
      "execution_count": null,
      "outputs": [
        {
          "output_type": "stream",
          "name": "stdout",
          "text": [
            "['koh', 'made', 'test', 'debut', 'he', 'reach', 'number', 'one', 'spot', 'icc', 'rank', 'odi', 'batsmen', 'first', 'time', 'he', 'man', 'tournament', 'twice', 'icc', 'world', 'twenty20', 'he', 'also', 'hold', 'world', 'record', 'fastest', 'score', '24,000', 'intern', 'career', 'run', 'he', 'also', 'lead', 'run', 'scorer', 'time', 't20s', 'well', 'current', 'lead', 'run', 'scorer', 't20', 'world', 'cup']\n"
          ]
        }
      ]
    },
    {
      "cell_type": "markdown",
      "source": [
        "##Stemming vs Lemmatization"
      ],
      "metadata": {
        "id": "BUFV_E3uTakv"
      }
    },
    {
      "cell_type": "code",
      "source": [
        "print(lemma.lemmatize('historical', pos='v'), stemmer.stem('historical'))\n",
        "print(lemma.lemmatize('history', pos='v'), stemmer.stem('history'))\n",
        "print(lemma.lemmatize('playing', pos='v'), stemmer.stem('playing'))\n",
        "print(lemma.lemmatize('caring', pos='v'), stemmer.stem('caring'))\n",
        "print(lemma.lemmatize('fairly', pos='v'), stemmer.stem('fairly'))\n",
        "print(lemma.lemmatize('generous', pos='v'), stemmer.stem('generous'))"
      ],
      "metadata": {
        "colab": {
          "base_uri": "https://localhost:8080/"
        },
        "id": "ieJ_kWlb-dQC",
        "outputId": "2313bd50-9fe8-47e5-8397-9d2adec3da6a"
      },
      "execution_count": null,
      "outputs": [
        {
          "output_type": "stream",
          "name": "stdout",
          "text": [
            "historical histor\n",
            "history histori\n",
            "play play\n",
            "care care\n",
            "fairly fair\n",
            "generous generous\n"
          ]
        }
      ]
    }
  ]
}